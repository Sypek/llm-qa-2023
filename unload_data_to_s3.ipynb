{
 "cells": [
  {
   "cell_type": "code",
   "execution_count": 1,
   "metadata": {},
   "outputs": [],
   "source": [
    "import os\n",
    "from tqdm import tqdm\n",
    "import boto3\n",
    "\n",
    "os.environ['AWS_PROFILE'] = 'burner-llm'"
   ]
  },
  {
   "cell_type": "code",
   "execution_count": 2,
   "metadata": {},
   "outputs": [],
   "source": [
    "cf_client = boto3.client('cloudformation')\n",
    "stackname = 'LLMStackS3'\n",
    "\n",
    "response = cf_client.describe_stacks(StackName=stackname)\n",
    "outputs = response[\"Stacks\"][0][\"Outputs\"]"
   ]
  },
  {
   "cell_type": "code",
   "execution_count": 3,
   "metadata": {},
   "outputs": [],
   "source": [
    "cf_outputs = {}\n",
    "for i in outputs:\n",
    "    cf_outputs[i['OutputKey']] = i['OutputValue']"
   ]
  },
  {
   "cell_type": "code",
   "execution_count": 4,
   "metadata": {},
   "outputs": [
    {
     "data": {
      "text/plain": [
       "{'DataUploaderRoleArn': 'arn:aws:iam::878691224389:role/data-uploader-role',\n",
       " 'DataUploaderRoleName': 'data-uploader-role',\n",
       " 'S3BucketName': 'llmstacks3-s3bucket-1b39zw19b74me'}"
      ]
     },
     "execution_count": 4,
     "metadata": {},
     "output_type": "execute_result"
    }
   ],
   "source": [
    "cf_outputs"
   ]
  },
  {
   "cell_type": "code",
   "execution_count": 7,
   "metadata": {},
   "outputs": [],
   "source": [
    "BUCKET_NAME = cf_outputs['S3BucketName']\n",
    "DATA_UPLOADER_ROLE_ARN = cf_outputs['DataUploaderRoleArn']\n",
    "\n",
    "DATA_PATH = 'data/sagemaker_documentation/'"
   ]
  },
  {
   "cell_type": "code",
   "execution_count": 8,
   "metadata": {},
   "outputs": [],
   "source": [
    "sts_client = boto3.client('sts')\n",
    "\n",
    "assumed_role_object=sts_client.assume_role(\n",
    "    RoleArn=DATA_UPLOADER_ROLE_ARN,\n",
    "    RoleSessionName=\"AssumeRoleSession1\"\n",
    ")\n",
    "\n",
    "credentials=assumed_role_object['Credentials']\n",
    "\n",
    "s3_resource=boto3.resource(\n",
    "    's3',\n",
    "    aws_access_key_id=credentials['AccessKeyId'],\n",
    "    aws_secret_access_key=credentials['SecretAccessKey'],\n",
    "    aws_session_token=credentials['SessionToken'],\n",
    ")\n"
   ]
  },
  {
   "cell_type": "code",
   "execution_count": 10,
   "metadata": {},
   "outputs": [
    {
     "name": "stdout",
     "output_type": "stream",
     "text": [
      "There are 336 files.\n"
     ]
    }
   ],
   "source": [
    "file_names_list = os.listdir(DATA_PATH)\n",
    "file_paths_list = [os.path.join(DATA_PATH, i) for i in file_names_list]\n",
    "\n",
    "print(f'There are {len(file_paths_list)} files.')"
   ]
  },
  {
   "cell_type": "code",
   "execution_count": 11,
   "metadata": {},
   "outputs": [
    {
     "name": "stderr",
     "output_type": "stream",
     "text": [
      "336it [01:40,  3.35it/s]\n"
     ]
    }
   ],
   "source": [
    "for filename, filepath in tqdm(zip(file_names_list, file_paths_list)):    \n",
    "    s3_resource.Bucket(BUCKET_NAME).upload_file(filepath, os.path.join('input_data', filename))"
   ]
  },
  {
   "cell_type": "code",
   "execution_count": null,
   "metadata": {},
   "outputs": [],
   "source": [
    "# NOTE: Uploading for sure can be done in more efficient way.\n",
    "# Either bulk update or zipping files locally, sending the package and unzipping directly on S3."
   ]
  },
  {
   "cell_type": "code",
   "execution_count": null,
   "metadata": {},
   "outputs": [],
   "source": []
  }
 ],
 "metadata": {
  "kernelspec": {
   "display_name": "llm-qa",
   "language": "python",
   "name": "python3"
  },
  "language_info": {
   "codemirror_mode": {
    "name": "ipython",
    "version": 3
   },
   "file_extension": ".py",
   "mimetype": "text/x-python",
   "name": "python",
   "nbconvert_exporter": "python",
   "pygments_lexer": "ipython3",
   "version": "3.9.14"
  },
  "orig_nbformat": 4
 },
 "nbformat": 4,
 "nbformat_minor": 2
}
