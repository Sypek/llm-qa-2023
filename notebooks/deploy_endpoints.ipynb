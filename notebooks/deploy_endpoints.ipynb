{
 "cells": [
  {
   "cell_type": "code",
   "execution_count": null,
   "metadata": {},
   "outputs": [],
   "source": [
    "import sagemaker, boto3\n",
    "from sagemaker.model import Model\n",
    "from sagemaker.session import Session\n",
    "from sagemaker.predictor import Predictor\n",
    "from sagemaker import image_uris, model_uris"
   ]
  },
  {
   "cell_type": "code",
   "execution_count": null,
   "metadata": {},
   "outputs": [],
   "source": [
    "# Get endpoint name from cloudformation output\n",
    "cf_client = boto3.client('cloudformation')\n",
    "stackname = 'LLMStack'\n",
    "\n",
    "response = cf_client.describe_stacks(StackName=stackname)\n",
    "outputs = response[\"Stacks\"][0][\"Outputs\"]\n",
    "\n",
    "cf_outputs = {}\n",
    "for i in outputs:\n",
    "    cf_outputs[i['OutputKey']] = i['OutputValue']\n"
   ]
  },
  {
   "cell_type": "code",
   "execution_count": null,
   "metadata": {},
   "outputs": [],
   "source": [
    "endpoint_config = {\n",
    "    'generative': {\n",
    "        'model_id': 'huggingface-text2text-flan-t5-xl',\n",
    "        'instance_type': 'ml.g5.2xlarge',\n",
    "        'instance_count': 1,\n",
    "        'endpoint_name': cf_outputs[\"SageMakerEndpointGenerative\"],\n",
    "        'env': {\"TS_DEFAULT_WORKERS_PER_MODEL\": \"1\"},\n",
    "        'predictor': Predictor\n",
    "    },\n",
    "    'embeddings': {\n",
    "        'model_id': 'huggingface-textembedding-gpt-j-6b',\n",
    "        'instance_type': 'ml.g5.4xlarge',\n",
    "        'instance_count': 1,\n",
    "        'endpoint_name': cf_outputs[\"SageMakerEndpointEmbeddings\"],\n",
    "        'env': {\"TS_DEFAULT_WORKERS_PER_MODEL\": \"1\"},\n",
    "        'predictor': Predictor\n",
    "    }\n",
    "}"
   ]
  },
  {
   "cell_type": "code",
   "execution_count": null,
   "metadata": {},
   "outputs": [],
   "source": [
    "sagemaker_session = Session()\n",
    "aws_role = sagemaker_session.get_caller_identity_arn()\n",
    "\n",
    "aws_region = boto3.Session().region_name\n",
    "sess = sagemaker.Session()\n",
    "\n",
    "print(f'aws_role={aws_role}')\n",
    "print(f'aws_region={aws_region}')"
   ]
  },
  {
   "cell_type": "code",
   "execution_count": null,
   "metadata": {},
   "outputs": [],
   "source": [
    "def deploy_model(name: str, config: dict):\n",
    "    assert name in endpoint_config.keys(), 'Provide proper name of the model.'\n",
    "\n",
    "    model_id = config[name]['model_id']\n",
    "    instance_type = config[name]['instance_type']\n",
    "    instance_count = config[name]['instance_count']\n",
    "    endpoint_name = config[name]['endpoint_name']\n",
    "    env = config[name]['env']\n",
    "    predictor = config[name]['predictor']\n",
    "\n",
    "    deploy_image_uri = image_uris.retrieve(\n",
    "        region=None,\n",
    "        framework=None, \n",
    "        image_scope=\"inference\",\n",
    "        model_id=model_id,\n",
    "        model_version='*',\n",
    "        instance_type=instance_type)\n",
    "\n",
    "    model_uri = model_uris.retrieve(\n",
    "        model_id=model_id,\n",
    "        model_version='*',\n",
    "        model_scope=\"inference\"\n",
    "    )\n",
    "\n",
    "    print(f'deploy_image_uri: {deploy_image_uri} \\n')\n",
    "    print(f'model_uri: {model_uri}')\n",
    "    \n",
    "    model_inference = Model(\n",
    "        image_uri=deploy_image_uri,\n",
    "        model_data=model_uri,\n",
    "        role=aws_role,\n",
    "        predictor_cls=predictor,\n",
    "        name=endpoint_name,\n",
    "        env=env,\n",
    "    )\n",
    "\n",
    "    model_predictor_inference = model_inference.deploy(\n",
    "        initial_instance_count=instance_count,\n",
    "        instance_type=instance_type,\n",
    "        predictor_cls=predictor,\n",
    "        endpoint_name=endpoint_name,\n",
    "    )\n",
    "    \n",
    "    print(f'Deployed model with endpoint: {endpoint_name}')"
   ]
  },
  {
   "cell_type": "code",
   "execution_count": null,
   "metadata": {},
   "outputs": [],
   "source": [
    "deploy_model('embeddings', endpoint_config)"
   ]
  },
  {
   "cell_type": "code",
   "execution_count": null,
   "metadata": {},
   "outputs": [],
   "source": [
    "deploy_model('generative', endpoint_config)"
   ]
  }
 ],
 "metadata": {
  "language_info": {
   "name": "python"
  },
  "orig_nbformat": 4
 },
 "nbformat": 4,
 "nbformat_minor": 2
}
