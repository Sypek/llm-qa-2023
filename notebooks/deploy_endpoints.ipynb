{
 "cells": [
  {
   "cell_type": "code",
   "execution_count": null,
   "metadata": {},
   "outputs": [],
   "source": [
    "import sagemaker, boto3\n",
    "from sagemaker.model import Model\n",
    "from sagemaker.session import Session\n",
    "from sagemaker.predictor import Predictor\n",
    "from sagemaker import image_uris, model_uris"
   ]
  },
  {
   "cell_type": "code",
   "execution_count": null,
   "metadata": {},
   "outputs": [],
   "source": [
    "MODEL_ID = \"huggingface-text2text-flan-t5-base\"\n",
    "INSTANCE_TYPE = 'ml.g4dn.2xlarge'\n",
    "INSTANCE_COUNT = 1\n",
    "STACK_NAME = 'LLMStackKendra'"
   ]
  },
  {
   "cell_type": "code",
   "execution_count": null,
   "metadata": {},
   "outputs": [],
   "source": [
    "# Get endpoint name from cloudformation output\n",
    "cf_client = boto3.client('cloudformation')\n",
    "stackname = 'LLMStackKendra'\n",
    "\n",
    "response = cf_client.describe_stacks(StackName=stackname)\n",
    "outputs = response[\"Stacks\"][0][\"Outputs\"]\n",
    "\n",
    "cf_outputs = {}\n",
    "for i in outputs:\n",
    "    cf_outputs[i['OutputKey']] = i['OutputValue']\n",
    "\n",
    "ENDPOINT_NAME = cf_outputs['SageMakerEndpoint']"
   ]
  },
  {
   "cell_type": "code",
   "execution_count": null,
   "metadata": {},
   "outputs": [],
   "source": [
    "sagemaker_session = Session()\n",
    "aws_role = sagemaker_session.get_caller_identity_arn()\n",
    "\n",
    "aws_region = boto3.Session().region_name\n",
    "sess = sagemaker.Session()\n",
    "\n",
    "print(f'aws_role={aws_role}')\n",
    "print(f'aws_region={aws_region}')"
   ]
  },
  {
   "cell_type": "code",
   "execution_count": null,
   "metadata": {},
   "outputs": [],
   "source": [
    "deploy_image_uri = image_uris.retrieve(\n",
    "    region=None,\n",
    "    framework=None, \n",
    "    image_scope=\"inference\",\n",
    "    model_id=MODEL_ID,\n",
    "    model_version='*',\n",
    "    instance_type=INSTANCE_TYPE)\n",
    "\n",
    "model_uri = model_uris.retrieve(\n",
    "    model_id=MODEL_ID,\n",
    "    model_version='*',\n",
    "    model_scope=\"inference\"\n",
    ")\n",
    "\n",
    "print(f'deploy_image_uri: {deploy_image_uri} \\n')\n",
    "print(f'model_uri: {model_uri}')"
   ]
  },
  {
   "cell_type": "code",
   "execution_count": null,
   "metadata": {},
   "outputs": [],
   "source": [
    "model_inference = Model(\n",
    "    image_uri=deploy_image_uri,\n",
    "    model_data=model_uri,\n",
    "    role=aws_role,\n",
    "    predictor_cls=Predictor,\n",
    "    name=ENDPOINT_NAME,\n",
    "    env={\"TS_DEFAULT_WORKERS_PER_MODEL\": \"1\"},\n",
    ")\n",
    "\n",
    "model_predictor_inference = model_inference.deploy(\n",
    "    initial_instance_count=INSTANCE_COUNT,\n",
    "    instance_type=INSTANCE_TYPE,\n",
    "    predictor_cls=Predictor,\n",
    "    endpoint_name=ENDPOINT_NAME,\n",
    ")"
   ]
  },
  {
   "cell_type": "code",
   "execution_count": null,
   "metadata": {},
   "outputs": [],
   "source": [
    "print(f'Deployed model with endpoint: {ENDPOINT_NAME}')"
   ]
  }
 ],
 "metadata": {
  "language_info": {
   "name": "python"
  },
  "orig_nbformat": 4
 },
 "nbformat": 4,
 "nbformat_minor": 2
}
