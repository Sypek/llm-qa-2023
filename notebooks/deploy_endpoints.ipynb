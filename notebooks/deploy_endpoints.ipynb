{
 "cells": [
  {
   "cell_type": "code",
   "execution_count": null,
   "metadata": {},
   "outputs": [],
   "source": [
    "import sys\n",
    "import time\n",
    "import logging\n",
    "import sagemaker, boto3, json\n",
    "from sagemaker.model import Model\n",
    "from sagemaker.session import Session\n",
    "from sagemaker.predictor import Predictor\n",
    "from sagemaker.utils import name_from_base\n",
    "from sagemaker import image_uris, model_uris, script_uris, hyperparameters"
   ]
  },
  {
   "cell_type": "code",
   "execution_count": null,
   "metadata": {},
   "outputs": [],
   "source": [
    "# CONSTANTS\n",
    "# Here I'm taking small model and instance type to avoid costs\n",
    "# For production, of course XXL model with strong instance will perform better.\n",
    "MODEL_ID = \"huggingface-text2text-flan-t5-base\"\n",
    "INSTANCE_TYPE = 'ml.g4dn.2xlarge'\n",
    "INSTANCE_COUNT = 1\n",
    "ENDPOINT_NAME = 'LLM_QA_FLAN_T5_BASE'"
   ]
  },
  {
   "cell_type": "code",
   "execution_count": null,
   "metadata": {},
   "outputs": [],
   "source": [
    "logger = logging.getLogger()\n",
    "logger.setLevel(logging.INFO)"
   ]
  },
  {
   "cell_type": "code",
   "execution_count": null,
   "metadata": {},
   "outputs": [],
   "source": [
    "sagemaker_session = Session()\n",
    "aws_role = sagemaker_session.get_caller_identity_arn()\n",
    "\n",
    "aws_region = boto3.Session().region_name\n",
    "sess = sagemaker.Session()\n",
    "\n",
    "logger.info(f'aws_role={aws_role}')\n",
    "logger.info(f'aws_region={aws_region}')"
   ]
  },
  {
   "cell_type": "code",
   "execution_count": null,
   "metadata": {},
   "outputs": [],
   "source": [
    "deploy_image_uri = image_uris.retrieve(\n",
    "    region=None,\n",
    "    framework=None, \n",
    "    image_scope=\"inference\",\n",
    "    model_id=MODEL_ID,\n",
    "    model_version='*',\n",
    "    instance_type=INSTANCE_TYPE)\n",
    "\n",
    "model_uri = model_uris.retrieve(\n",
    "    model_id=MODEL_ID, \n",
    "    model_version='*', \n",
    "    model_scope=\"inference\"\n",
    ")\n",
    "\n",
    "logger.info(f\"deploy_image_uri={deploy_image_uri}, model_uri={model_uri}\")"
   ]
  },
  {
   "cell_type": "code",
   "execution_count": null,
   "metadata": {},
   "outputs": [],
   "source": [
    "model_inference = Model(\n",
    "    image_uri=deploy_image_uri,\n",
    "    model_data=model_uri,\n",
    "    role=aws_role,\n",
    "    predictor_cls=Predictor,\n",
    "    name=ENDPOINT_NAME,\n",
    "    env={\"TS_DEFAULT_WORKERS_PER_MODEL\": \"1\"},\n",
    ")\n",
    "\n",
    "model_predictor_inference = model_inference.deploy(\n",
    "    initial_instance_count=INSTANCE_COUNT,\n",
    "    instance_type=INSTANCE_TYPE,\n",
    "    predictor_cls=Predictor,\n",
    "    endpoint_name=ENDPOINT_NAME,\n",
    ")"
   ]
  }
 ],
 "metadata": {
  "language_info": {
   "name": "python"
  },
  "orig_nbformat": 4
 },
 "nbformat": 4,
 "nbformat_minor": 2
}
